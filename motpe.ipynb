{
 "cells": [
  {
   "cell_type": "code",
   "execution_count": 4,
   "metadata": {},
   "outputs": [
    {
     "ename": "ModuleNotFoundError",
     "evalue": "No module named 'optuna'",
     "output_type": "error",
     "traceback": [
      "\u001b[0;31m---------------------------------------------------------------------------\u001b[0m",
      "\u001b[0;31mModuleNotFoundError\u001b[0m                       Traceback (most recent call last)",
      "\u001b[1;32m/Users/johnkiyo/workspace/Optuna_trial/motpe.ipynb Cell 1'\u001b[0m in \u001b[0;36m<cell line: 1>\u001b[0;34m()\u001b[0m\n\u001b[0;32m----> <a href='vscode-notebook-cell:/Users/johnkiyo/workspace/Optuna_trial/motpe.ipynb#ch0000000?line=0'>1</a>\u001b[0m \u001b[39mimport\u001b[39;00m \u001b[39moptuna\u001b[39;00m\n\u001b[1;32m      <a href='vscode-notebook-cell:/Users/johnkiyo/workspace/Optuna_trial/motpe.ipynb#ch0000000?line=2'>3</a>\u001b[0m \u001b[39mdef\u001b[39;00m \u001b[39mobjectives\u001b[39m(trial):\n\u001b[1;32m      <a href='vscode-notebook-cell:/Users/johnkiyo/workspace/Optuna_trial/motpe.ipynb#ch0000000?line=3'>4</a>\u001b[0m     \n\u001b[1;32m      <a href='vscode-notebook-cell:/Users/johnkiyo/workspace/Optuna_trial/motpe.ipynb#ch0000000?line=4'>5</a>\u001b[0m     \u001b[39m# optunaでのパラメータサーチ範囲の設定\u001b[39;00m\n\u001b[1;32m      <a href='vscode-notebook-cell:/Users/johnkiyo/workspace/Optuna_trial/motpe.ipynb#ch0000000?line=5'>6</a>\u001b[0m     a \u001b[39m=\u001b[39m trial\u001b[39m.\u001b[39msuggest_int(\u001b[39m'\u001b[39m\u001b[39ma\u001b[39m\u001b[39m'\u001b[39m, \u001b[39m0\u001b[39m, \u001b[39m30\u001b[39m)\n",
      "\u001b[0;31mModuleNotFoundError\u001b[0m: No module named 'optuna'"
     ]
    }
   ],
   "source": [
    "import optuna\n",
    "\n",
    "def objectives(trial):\n",
    "    \n",
    "    # optunaでのパラメータサーチ範囲の設定\n",
    "    a = trial.suggest_int('a', 0, 30)\n",
    "    b = trial.suggest_int('b', 0, 30)\n",
    "    \n",
    "    # 評価関数\n",
    "    y1 = a**2 + b\n",
    "    y2 = b\n",
    "    \n",
    "    return y1,y2\n",
    "\n",
    "# optunaによる最適化呼び出し\n",
    "study = optuna.multi_objective.create_study(directions=[\"minimize\", \"maximize\"],\n",
    "                                          sampler=optuna.multi_objective.samplers.NSGAIIMultiObjectiveSampler())\n",
    "study.optimize(objectives, n_trials=200)\n",
    "\n",
    "# パレート解の表示\n",
    "trials = {str(trial.values): trial for trial in study.get_pareto_front_trials()}\n",
    "trials = list(trials.values())\n",
    "trials.sort(key=lambda t: t.values)"
   ]
  },
  {
   "cell_type": "code",
   "execution_count": 5,
   "metadata": {},
   "outputs": [
    {
     "ename": "NameError",
     "evalue": "name 'trials' is not defined",
     "output_type": "error",
     "traceback": [
      "\u001b[0;31m---------------------------------------------------------------------------\u001b[0m",
      "\u001b[0;31mNameError\u001b[0m                                 Traceback (most recent call last)",
      "\u001b[1;32m/Users/johnkiyo/workspace/Optuna_trial/motpe.ipynb Cell 2'\u001b[0m in \u001b[0;36m<cell line: 3>\u001b[0;34m()\u001b[0m\n\u001b[1;32m      <a href='vscode-notebook-cell:/Users/johnkiyo/workspace/Optuna_trial/motpe.ipynb#ch0000001?line=0'>1</a>\u001b[0m y1, y2 \u001b[39m=\u001b[39m [], []\n\u001b[1;32m      <a href='vscode-notebook-cell:/Users/johnkiyo/workspace/Optuna_trial/motpe.ipynb#ch0000001?line=1'>2</a>\u001b[0m params \u001b[39m=\u001b[39m []\n\u001b[0;32m----> <a href='vscode-notebook-cell:/Users/johnkiyo/workspace/Optuna_trial/motpe.ipynb#ch0000001?line=2'>3</a>\u001b[0m \u001b[39mfor\u001b[39;00m trial \u001b[39min\u001b[39;00m trials:\n\u001b[1;32m      <a href='vscode-notebook-cell:/Users/johnkiyo/workspace/Optuna_trial/motpe.ipynb#ch0000001?line=3'>4</a>\u001b[0m     \u001b[39m# print(\"Trial#{}\".format(trial.number))\u001b[39;00m\n\u001b[1;32m      <a href='vscode-notebook-cell:/Users/johnkiyo/workspace/Optuna_trial/motpe.ipynb#ch0000001?line=4'>5</a>\u001b[0m     \u001b[39m# print(\"  Values: y1={}, y2={}\".format(trial.values[0], trial.values[1]))\u001b[39;00m\n\u001b[1;32m      <a href='vscode-notebook-cell:/Users/johnkiyo/workspace/Optuna_trial/motpe.ipynb#ch0000001?line=5'>6</a>\u001b[0m     y1\u001b[39m.\u001b[39mappend(trial\u001b[39m.\u001b[39mvalues[\u001b[39m0\u001b[39m])\n\u001b[1;32m      <a href='vscode-notebook-cell:/Users/johnkiyo/workspace/Optuna_trial/motpe.ipynb#ch0000001?line=6'>7</a>\u001b[0m     y2\u001b[39m.\u001b[39mappend(trial\u001b[39m.\u001b[39mvalues[\u001b[39m1\u001b[39m])\n",
      "\u001b[0;31mNameError\u001b[0m: name 'trials' is not defined"
     ]
    }
   ],
   "source": [
    "y1, y2 = [], []\n",
    "params = []\n",
    "for trial in trials:\n",
    "    # print(\"Trial#{}\".format(trial.number))\n",
    "    # print(\"  Values: y1={}, y2={}\".format(trial.values[0], trial.values[1]))\n",
    "    y1.append(trial.values[0])\n",
    "    y2.append(trial.values[1])\n",
    "    params.append(trial.params)\n",
    "    # print(\"  Params: {}\".format(trial.params))"
   ]
  },
  {
   "cell_type": "code",
   "execution_count": null,
   "metadata": {},
   "outputs": [],
   "source": [
    "import matplotlib.pyplot as plt"
   ]
  },
  {
   "cell_type": "code",
   "execution_count": null,
   "metadata": {},
   "outputs": [
    {
     "data": {
      "image/png": "[encoded data removed]",
      "text/plain": [
       "<Figure size 432x288 with 1 Axes>"
      ]
     },
     "metadata": {
      "needs_background": "light"
     },
     "output_type": "display_data"
    }
   ],
   "source": [
    "plt.plot(y1,y2,'o')\n",
    "for i in range(len(params)):\n",
    "    plt.annotate(str(params[i]), (y1[i], y2[i]), xytext=(y1[i] + 5, y2[i]))"
   ]
  },
  {
   "cell_type": "code",
   "execution_count": 2,
   "metadata": {},
   "outputs": [
    {
     "ename": "NameError",
     "evalue": "name 'params' is not defined",
     "output_type": "error",
     "traceback": [
      "\u001b[0;31m---------------------------------------------------------------------------\u001b[0m",
      "\u001b[0;31mNameError\u001b[0m                                 Traceback (most recent call last)",
      "\u001b[1;32m/Users/johnkiyo/workspace/Optuna_trial/motpe.ipynb Cell 5'\u001b[0m in \u001b[0;36m<cell line: 1>\u001b[0;34m()\u001b[0m\n\u001b[0;32m----> <a href='vscode-notebook-cell:/Users/johnkiyo/workspace/Optuna_trial/motpe.ipynb#ch0000004?line=0'>1</a>\u001b[0m \u001b[39mfor\u001b[39;00m val \u001b[39min\u001b[39;00m params:\n\u001b[1;32m      <a href='vscode-notebook-cell:/Users/johnkiyo/workspace/Optuna_trial/motpe.ipynb#ch0000004?line=1'>2</a>\u001b[0m     plt\u001b[39m.\u001b[39mscatter(val[\u001b[39m'\u001b[39m\u001b[39ma\u001b[39m\u001b[39m'\u001b[39m], val[\u001b[39m'\u001b[39m\u001b[39mb\u001b[39m\u001b[39m'\u001b[39m], c\u001b[39m=\u001b[39m\u001b[39m'\u001b[39m\u001b[39mk\u001b[39m\u001b[39m'\u001b[39m, marker\u001b[39m=\u001b[39m\u001b[39m'\u001b[39m\u001b[39m.\u001b[39m\u001b[39m'\u001b[39m)\n",
      "\u001b[0;31mNameError\u001b[0m: name 'params' is not defined"
     ]
    }
   ],
   "source": [
    "for val in params:\n",
    "    plt.scatter(val['a'], val['b'], c='k', marker='.')"
   ]
  },
  {
   "cell_type": "code",
   "execution_count": null,
   "metadata": {},
   "outputs": [],
   "source": []
  }
 ],
 "metadata": {
  "interpreter": {
   "hash": "949777d72b0d2535278d3dc13498b2535136f6dfe0678499012e853ee9abcab1"
  },
  "kernelspec": {
   "display_name": "Python 3.8.10 64-bit",
   "language": "python",
   "name": "python3"
  },
  "language_info": {
   "codemirror_mode": {
    "name": "ipython",
    "version": 3
   },
   "file_extension": ".py",
   "mimetype": "text/x-python",
   "name": "python",
   "nbconvert_exporter": "python",
   "pygments_lexer": "ipython3",
   "version": "3.9.0"
  },
  "orig_nbformat": 4
 },
 "nbformat": 4,
 "nbformat_minor": 2
}
